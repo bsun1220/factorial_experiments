{
 "cells": [
  {
   "cell_type": "code",
   "execution_count": 1,
   "id": "1ed20286-be69-4528-99f3-3fd66b40cbd6",
   "metadata": {},
   "outputs": [],
   "source": [
    "from src import *"
   ]
  },
  {
   "cell_type": "code",
   "execution_count": 2,
   "id": "8d4a2f87-bbbc-4346-afb5-1a184970027b",
   "metadata": {},
   "outputs": [],
   "source": [
    "num_points = 10000\n",
    "df = pd.DataFrame()\n",
    "num_treatments = 4\n",
    "\n",
    "treat_cols = []\n",
    "for i in range(num_treatments):\n",
    "    treat_name = 'z'+str(i)\n",
    "    df[treat_name] = (2 * (np.random.randint(0, 2, num_points) - 0.5)).astype(int)\n",
    "    treat_cols.append(treat_name)\n",
    "\n",
    "num_covs = 3\n",
    "cov_cols = []\n",
    "for i in range(num_covs):\n",
    "    cov_name = 'x'+str(i)\n",
    "    df[cov_name] = np.random.randint(0, 2, num_points)\n",
    "    cov_cols.append(cov_name)\n",
    "    \n",
    "df['y'] = np.random.randint(0, 2, num_points)"
   ]
  },
  {
   "cell_type": "code",
   "execution_count": 4,
   "id": "cf71cd21-a315-451d-a1e8-47bed7aca1b0",
   "metadata": {},
   "outputs": [
    {
     "data": {
      "text/plain": [
       "Variable((np.int32(10000),), var222)"
      ]
     },
     "execution_count": 4,
     "metadata": {},
     "output_type": "execute_result"
    }
   ],
   "source": [
    "fw = FactorialWeights()\n",
    "effects = ['z0']\n",
    "fw.heterogeneous_treat_model(df, treat_cols, cov_cols, effects)"
   ]
  },
  {
   "cell_type": "code",
   "execution_count": null,
   "id": "e16a59f5-cbbc-4b9f-9b1a-895b3a92b471",
   "metadata": {},
   "outputs": [],
   "source": [
    "df"
   ]
  },
  {
   "cell_type": "code",
   "execution_count": null,
   "id": "3c6309d7-0c64-4eb4-9d47-101ff47a64a0",
   "metadata": {},
   "outputs": [],
   "source": []
  }
 ],
 "metadata": {
  "kernelspec": {
   "display_name": "Python 3 (ipykernel)",
   "language": "python",
   "name": "python3"
  },
  "language_info": {
   "codemirror_mode": {
    "name": "ipython",
    "version": 3
   },
   "file_extension": ".py",
   "mimetype": "text/x-python",
   "name": "python",
   "nbconvert_exporter": "python",
   "pygments_lexer": "ipython3",
   "version": "3.13.0"
  }
 },
 "nbformat": 4,
 "nbformat_minor": 5
}
