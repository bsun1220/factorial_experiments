{
 "cells": [
  {
   "cell_type": "code",
   "execution_count": 154,
   "id": "1ed20286-be69-4528-99f3-3fd66b40cbd6",
   "metadata": {},
   "outputs": [],
   "source": [
    "import numpy as np\n",
    "import pandas as pd \n",
    "import matplotlib.pyplot as plt\n",
    "import cvxpy as cp\n",
    "import itertools"
   ]
  },
  {
   "cell_type": "code",
   "execution_count": 8,
   "id": "b8d39199-bfd8-4a6a-b448-f12117287bb8",
   "metadata": {},
   "outputs": [
    {
     "data": {
      "text/plain": [
       "'\\nAssume two-way factorial design \\nHeterogenuous Treatment Effect\\n\\n1) Assume K = 2\\n2) Assume Basis Functions are Linear\\n3) Assume Only 1 Interaction Effects\\n\\nBuild Simple Python Function Based on This\\n1) Dataframe\\n2) Treatment Cols [Assume in {-1, 1}]\\n3) Covariate Cols [Assume Numerical]\\n5) G Column [Assume in {-1, 1}]\\n\\nBuild More Functionality\\n1) Specify Basis Functions\\n2) Specify Number of Interaction Effects\\n'"
      ]
     },
     "execution_count": 8,
     "metadata": {},
     "output_type": "execute_result"
    }
   ],
   "source": [
    "'''\n",
    "Assume two-way factorial design \n",
    "Heterogenuous Treatment Effect\n",
    "\n",
    "Build Simple Python Function Based on This\n",
    "1) Dataframe\n",
    "2) Treatment Cols [Assume in {-1, 1}]\n",
    "3) Covariate Cols [Assume Numerical]\n",
    "5) G Column [Assume in {-1, 1}]\n",
    "\n",
    "Build More Functionality\n",
    "1) Specify Basis Functions\n",
    "'''"
   ]
  },
  {
   "cell_type": "code",
   "execution_count": 370,
   "id": "8d4a2f87-bbbc-4346-afb5-1a184970027b",
   "metadata": {},
   "outputs": [],
   "source": [
    "num_points = 10000\n",
    "df = pd.DataFrame()\n",
    "num_treatments = 5\n",
    "\n",
    "for i in range(num_treatments):\n",
    "    treat_name = 'z'+str(i)\n",
    "    df[treat_name] = (2 * (np.random.randint(0, 2, num_points) - 0.5)).astype(int)\n",
    "\n",
    "num_covs = 5\n",
    "for i in range(num_covs):\n",
    "    cov_name = 'x'+str(i)\n",
    "    df[cov_name] = np.random.randint(0, 2, num_points)\n",
    "    \n",
    "df['y'] = np.random.randint(0, 2, num_points)"
   ]
  },
  {
   "cell_type": "code",
   "execution_count": 407,
   "id": "35ae945e-cf1b-49fe-9a63-ba36d8300fe9",
   "metadata": {},
   "outputs": [],
   "source": [
    "def find_weighting(df, treat_cols, cov_cols, effects, weighting = 'entropy', intr_effects = 1):\n",
    "    assert weighting == 'entropy' or weighting == 'variance'\n",
    "    assert len(np.unique(df[treat_cols].values, axis = 0)) == 2**len(treat_cols)\n",
    "    \n",
    "    x = cp.Variable(len(df))\n",
    "    obj = None\n",
    "    if weighting == 'entropy':\n",
    "        obj = cp.Minimize(-cp.sum(cp.entr(x)))\n",
    "    if weighting == 'variance':\n",
    "        obj = cp.Minimize(cp.sum_squares(x))\n",
    "    \n",
    "    constraints = [x >= 0]\n",
    "    \n",
    "    df = df.copy()\n",
    "    \n",
    "    df['g'] = df[effects].prod(axis = 1)\n",
    "    df['A_plus'] = np.maximum(df['g'], 0)\n",
    "    df['A_minus'] = np.maximum(-df['g'], 0)\n",
    "    \n",
    "    treat_combos = [[ele] for ele in treat_cols]\n",
    "    for i in range(2, intr_effects + 1):\n",
    "        vals = list(itertools.combinations(treat_cols, i))\n",
    "        list_vals = [list(ele) for ele in vals]\n",
    "        treat_combos.extend(list_vals)\n",
    "    \n",
    "    sums = {}\n",
    "    \n",
    "    for cov_col in cov_cols:\n",
    "        sums[cov_col] = df[cov_col].sum()\n",
    "    \n",
    "    for s in range(len(cov_cols)):\n",
    "        for k in range(len(treat_combos)):\n",
    "            cov_col = cov_cols[s]\n",
    "            specific_treat_cols = treat_combos[k]\n",
    "            \n",
    "            #Get Treatment Vals\n",
    "            z_val = df[specific_treat_cols].prod(axis = 1)\n",
    "            \n",
    "            #Left Side of Constraint\n",
    "            plus_const = df['A_plus'] * df[cov_col] * z_val\n",
    "            minus_const = df['A_minus'] * df[cov_col] * z_val\n",
    "            \n",
    "            #All Unique Z Combos\n",
    "            z_combos = pd.DataFrame(np.unique(df[treat_cols].values, axis = 0), columns = treat_cols)\n",
    "            \n",
    "            #Right Side of Constraint\n",
    "            plus_res, minus_res = 0, 0\n",
    "            for j in range(len(z_combos)):\n",
    "                g_value = z_combos.loc[j][effects].prod()\n",
    "                mult = z_combos.loc[j][specific_treat_cols].prod()\n",
    "                if g_value > 0:\n",
    "                    plus_res += sums[cov_col] * mult\n",
    "                if g_value < 0:\n",
    "                    minus_res += sums[cov_col] * mult\n",
    "            \n",
    "            plus_res /= (2**(len(treat_cols) - 1))\n",
    "            minus_res /= (2**(len(treat_cols) - 1))\n",
    "            constraints.append(cp.multiply(x, plus_const).sum() == plus_res)\n",
    "            constraints.append(cp.multiply(x, minus_const).sum() == minus_res)\n",
    "\n",
    "    prob = cp.Problem(obj, constraints)\n",
    "    prob.solve(solver=cp.ECOS)\n",
    "    return prob, x\n",
    "            "
   ]
  },
  {
   "cell_type": "code",
   "execution_count": 413,
   "id": "4ece679b-386d-405d-9fa8-b56c3d4a55ec",
   "metadata": {
    "tags": []
   },
   "outputs": [],
   "source": [
    "prob, x = find_weighting(df, ['z0', 'z1', 'z2', 'z3'], \n",
    "                         ['x0', 'x1', 'x2', 'x3', 'x4'], \n",
    "                         ['z1', 'z2'], 'entropy', 2)"
   ]
  },
  {
   "cell_type": "code",
   "execution_count": 414,
   "id": "c0f97db0-b1db-41fa-bc4d-d023ce83f726",
   "metadata": {},
   "outputs": [],
   "source": [
    "df['weights'] = x.value"
   ]
  },
  {
   "cell_type": "code",
   "execution_count": 415,
   "id": "803a8591-ba04-4ef3-8c7c-b4ed8b5fe139",
   "metadata": {},
   "outputs": [
    {
     "data": {
      "text/plain": [
       "-0.0006719202844200126"
      ]
     },
     "execution_count": 415,
     "metadata": {},
     "output_type": "execute_result"
    }
   ],
   "source": [
    "df['g'] = df[['z1', 'z2']].prod(axis = 1)\n",
    "\n",
    "(df['g'] * df['weights']).sum()/len(df)"
   ]
  },
  {
   "cell_type": "code",
   "execution_count": 416,
   "id": "c516c63b-d285-4678-b6a1-634d4471edc4",
   "metadata": {},
   "outputs": [
    {
     "data": {
      "text/plain": [
       "(array([2400., 2938., 2696.,  346., 1014.,  283.,   31.,  166.,  103.,\n",
       "          23.]),\n",
       " array([0.3678794 , 0.93682987, 1.50578035, 2.07473082, 2.6436813 ,\n",
       "        3.21263177, 3.78158225, 4.35053273, 4.9194832 , 5.48843368,\n",
       "        6.05738415]),\n",
       " <BarContainer object of 10 artists>)"
      ]
     },
     "execution_count": 416,
     "metadata": {},
     "output_type": "execute_result"
    },
    {
     "data": {
      "image/png": "[encoded data removed]",
      "text/plain": [
       "<Figure size 640x480 with 1 Axes>"
      ]
     },
     "metadata": {},
     "output_type": "display_data"
    }
   ],
   "source": [
    "plt.hist(df['weights'])"
   ]
  },
  {
   "cell_type": "code",
   "execution_count": null,
   "id": "cf71cd21-a315-451d-a1e8-47bed7aca1b0",
   "metadata": {},
   "outputs": [],
   "source": []
  }
 ],
 "metadata": {
  "kernelspec": {
   "display_name": "Python 3 (ipykernel)",
   "language": "python",
   "name": "python3"
  },
  "language_info": {
   "codemirror_mode": {
    "name": "ipython",
    "version": 3
   },
   "file_extension": ".py",
   "mimetype": "text/x-python",
   "name": "python",
   "nbconvert_exporter": "python",
   "pygments_lexer": "ipython3",
   "version": "3.10.9"
  }
 },
 "nbformat": 4,
 "nbformat_minor": 5
}
